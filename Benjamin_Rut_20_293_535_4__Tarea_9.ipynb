{
  "cells": [
    {
      "cell_type": "code",
      "execution_count": 10,
      "metadata": {
        "colab": {
          "base_uri": "https://localhost:8080/"
        },
        "id": "mzEXSXRm1GvN",
        "outputId": "3f4cef31-03a5-423d-c301-0210da369b9e"
      },
      "outputs": [
        {
          "name": "stdout",
          "output_type": "stream",
          "text": [
            "Resultado de la primera integral: 2.396592183722719\n",
            "Resultado de la segunda integral: -4.3242881523052885\n"
          ]
        }
      ],
      "source": [
        "import numpy as np\n",
        "\n",
        "def simpson2(f, a, b, c, d, n, m):\n",
        "    \"\"\"\n",
        "    Implementación de la regla compuesta de Simpson para una integral doble.\n",
        "\n",
        "    Parámetros:\n",
        "    - f: Función a integrar, que toma dos argumentos (x, y).\n",
        "    - a, b: Límites de integración en la dirección x.\n",
        "    - c, d: Límites de integración en la dirección y.\n",
        "    - n: Número de subintervalos en la dirección x.\n",
        "    - m: Número de subintervalos en la dirección y.\n",
        "\n",
        "    Retorna:\n",
        "    - El resultado de la integral aproximado utilizando la regla compuesta de Simpson.\n",
        "    \"\"\"\n",
        "    h = (b - a) / n\n",
        "    k = (d - c) / m\n",
        "\n",
        "    borde_x = 0\n",
        "    suma_x_par = 0\n",
        "    suma_x_impar = 0\n",
        "    for i in range(n + 1):\n",
        "        x = a + i * h\n",
        "        borde_y = f(x, c) + f(x, d)  # Corregido aquí\n",
        "        suma_y_par = sum(f(x, c + j * k) for j in range(2, m, 2))\n",
        "        suma_y_impar = sum(f(x, c + j * k) for j in range(1, m, 2))\n",
        "        simpson_y = borde_y + 2 * suma_y_par + 4 * suma_y_impar\n",
        "        if i == 0 or i == n:\n",
        "            borde_x += simpson_y\n",
        "        elif i % 2 == 0:\n",
        "            suma_x_par += simpson_y\n",
        "        else:\n",
        "            suma_x_impar += simpson_y\n",
        "\n",
        "    resultado = borde_x + 2 * suma_x_par + 4 * suma_x_impar\n",
        "\n",
        "    return h * k * resultado / 9\n",
        "\n",
        "def f1(x, y):\n",
        "    \"\"\"\n",
        "    Función a integrar para la primera integral.\n",
        "    \"\"\"\n",
        "    return np.log(x) * x**0.5 / (x**2 + 3)\n",
        "\n",
        "def f2(x, y):  # Corregido aquí\n",
        "    \"\"\"\n",
        "    Función a integrar para la segunda integral.\n",
        "    \"\"\"\n",
        "    return np.log(x) * np.sin(x)\n",
        "\n",
        "# Calcular la primera integral\n",
        "resultado1 = simpson2(f1, 1, 100, 0, 1, 100, 100)\n",
        "print(\"Resultado de la primera integral:\", resultado1)\n",
        "\n",
        "# Calcular la segunda integral\n",
        "resultado2 = simpson2(f2, 1, 100, 0, 1, 100, 100)\n",
        "print(\"Resultado de la segunda integral:\", resultado2)\n",
        "\n",
        "\n"
      ]
    },
    {
      "cell_type": "markdown",
      "metadata": {},
      "source": [
        "# Calificación: 4.0"
      ]
    },
    {
      "cell_type": "markdown",
      "metadata": {},
      "source": [
        "No se aisló la divergencia, dando resultados errados. De hecho, la segunda integral no converge y debería dar infinito."
      ]
    },
    {
      "cell_type": "code",
      "execution_count": null,
      "metadata": {
        "id": "Im6qVvUK1IU-"
      },
      "outputs": [],
      "source": []
    }
  ],
  "metadata": {
    "colab": {
      "provenance": []
    },
    "kernelspec": {
      "display_name": "Python 3",
      "name": "python3"
    },
    "language_info": {
      "name": "python"
    }
  },
  "nbformat": 4,
  "nbformat_minor": 0
}
