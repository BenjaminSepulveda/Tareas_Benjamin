{
 "cells": [
  {
   "cell_type": "code",
   "execution_count": 3,
   "metadata": {
    "id": "IIRLNS3KGWGx"
   },
   "outputs": [],
   "source": [
    "#Bucamos calcular la velocidad de un proyectil esférico que cae 2 metros en 0,3 segundos\n",
    "g=9.8\n",
    "t=0.3\n",
    "x=2\n",
    "#Donde g es la aceleración gravitacional, t el tiempo, y x la distancia recorrida verticalmente\n",
    "v=(x/t)+0.5*g*t\n"
   ]
  },
  {
   "cell_type": "code",
   "execution_count": 4,
   "metadata": {
    "colab": {
     "base_uri": "https://localhost:8080/"
    },
    "id": "e_JFIiPqHqdQ",
    "outputId": "499a1209-1d6f-4370-9025-132e371d37d8"
   },
   "outputs": [
    {
     "data": {
      "text/plain": [
       "8.136666666666667"
      ]
     },
     "execution_count": 4,
     "metadata": {},
     "output_type": "execute_result"
    }
   ],
   "source": [
    "#Esta es la velocidad inicial del proyectil en metros sobre segundos\n",
    "v"
   ]
  },
  {
   "cell_type": "markdown",
   "metadata": {
    "id": "CLNwqesKHrUO"
   },
   "source": [
    "# Calificacion: 7.0"
   ]
  }
 ],
 "metadata": {
  "colab": {
   "provenance": []
  },
  "kernelspec": {
   "display_name": "Python 3 (ipykernel)",
   "language": "python",
   "name": "python3"
  },
  "language_info": {
   "codemirror_mode": {
    "name": "ipython",
    "version": 3
   },
   "file_extension": ".py",
   "mimetype": "text/x-python",
   "name": "python",
   "nbconvert_exporter": "python",
   "pygments_lexer": "ipython3",
   "version": "3.10.9"
  }
 },
 "nbformat": 4,
 "nbformat_minor": 1
}
