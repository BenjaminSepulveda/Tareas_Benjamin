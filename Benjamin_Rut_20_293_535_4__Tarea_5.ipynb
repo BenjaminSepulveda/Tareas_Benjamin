{
 "cells": [
  {
   "cell_type": "code",
   "execution_count": 2,
   "metadata": {
    "colab": {
     "base_uri": "https://localhost:8080/"
    },
    "id": "iCcc8pVafNAr",
    "outputId": "7f85652a-d38b-44f8-a08b-290e22c3ee73"
   },
   "outputs": [
    {
     "name": "stdout",
     "output_type": "stream",
     "text": [
      "El agresor debe lanzar al menos 14 misiles para tener una probabilidad de 0.5 o más de que al menos uno logre impactar.\n"
     ]
    }
   ],
   "source": [
    "import matplotlib.pyplot as plt\n",
    "def prob_interceptar_todos(n):\n",
    "  \"\"\"Esta función nos entregará la probabilidad de interceptar n misiles lanzados \"\"\"\n",
    "  return 0.95 ** n\n",
    "def grafico_prob(n):\n",
    "  \"\"\"Esta función se encargará de graficar la probabilidad de interceptar los n misiles lanzados\"\"\"\n",
    "  lista=[] #Creamos una lista vaciá donde irán las probabilidades\n",
    "  for i in range(n):#Creamos un ciclo para ver cada probabilidad, 0 misiles, 1 misil, 2 misiles etc.\n",
    "    lista.append(prob_interceptar_todos(i))\n",
    "  plt.bar(range(n),lista)\n",
    "  plt.show()\n",
    "n = 1\n",
    "while prob_interceptar_todos(n) > 0.5:# creamos un ciclo hasta que la probabilidad de impacto sea mayor al 50%,o lo que es igual, la de interceptar sea menor que 50%\n",
    "    n += 1\n",
    "\n",
    "print(\"El agresor debe lanzar al menos\", n, \"misiles para tener una probabilidad de 0.5 o más de que al menos uno logre impactar.\")"
   ]
  },
  {
   "cell_type": "code",
   "execution_count": 3,
   "metadata": {
    "colab": {
     "base_uri": "https://localhost:8080/",
     "height": 430
    },
    "id": "J9Lq-qmZixo3",
    "outputId": "726a9ccf-9ce0-41ff-eeed-387bbab2d181"
   },
   "outputs": [
    {
     "data": {
      "image/png": "[encoded data removed]",
      "text/plain": [
       "<Figure size 640x480 with 1 Axes>"
      ]
     },
     "metadata": {},
     "output_type": "display_data"
    }
   ],
   "source": [
    "grafico_prob(50) #Un ejemplo de la función grafico_prob con 50 misiles"
   ]
  },
  {
   "cell_type": "markdown",
   "metadata": {
    "id": "nJNUb6X0aM_8"
   },
   "source": [
    "# Calificacion: 7.0"
   ]
  }
 ],
 "metadata": {
  "colab": {
   "provenance": []
  },
  "kernelspec": {
   "display_name": "Python 3 (ipykernel)",
   "language": "python",
   "name": "python3"
  },
  "language_info": {
   "codemirror_mode": {
    "name": "ipython",
    "version": 3
   },
   "file_extension": ".py",
   "mimetype": "text/x-python",
   "name": "python",
   "nbconvert_exporter": "python",
   "pygments_lexer": "ipython3",
   "version": "3.11.5"
  }
 },
 "nbformat": 4,
 "nbformat_minor": 1
}
