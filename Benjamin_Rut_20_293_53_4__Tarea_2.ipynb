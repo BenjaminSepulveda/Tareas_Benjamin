{
  "nbformat": 4,
  "nbformat_minor": 0,
  "metadata": {
    "colab": {
      "provenance": []
    },
    "kernelspec": {
      "name": "python3",
      "display_name": "Python 3"
    },
    "language_info": {
      "name": "python"
    }
  },
  "cells": [
    {
      "cell_type": "code",
      "execution_count": 4,
      "metadata": {
        "id": "zR5FULr1PtoA"
      },
      "outputs": [],
      "source": [
        "import numpy as np"
      ]
    },
    {
      "cell_type": "code",
      "source": [
        "import math\n",
        "#Primero definimos una función en serie de Taylor que nos entregue como resultado la aproximación del seno(x)\n",
        "def funcion_seno_taylor(x, n_terms):\n",
        "    result = 0\n",
        "#La función \"funcion_seno_taylor\" toma dos valores \"x\" y \"n_terms\", donde x es el argumento del seno, y n_terms la cantidad de elementos de la aproximación\n",
        "    for n in range(n_terms):\n",
        "        term = ((-1)**n) * (x**(2*n+1)) / math.factorial(2*n+1)\n",
        "        result += term\n",
        "    return result\n",
        "#Note que usamos la librería de Math para tener elementos matemáticos como el factorial\n",
        "\n",
        "valor_real = math.sin(2)  # Valor objetivo de sin(2)\n",
        "error_max = 0.01          # Umbral de error relativo\n",
        "n_terms = 0              # Número inicial de términos en la serie\n",
        "\n",
        "aproximacion =funcion_seno_taylor(2, n_terms) #Aquí indicamos el argumento del seno que queremos aproximar, básicamente Sen(2)\n",
        "error = abs((aproximacion - valor_real) / valor_real)\n",
        "#Aquí solo encontramos el error como se mostró en clases, la aproximación menos el valor real, todo esto en valor absoluto, dividido al valor real.\n",
        "\n",
        "while error > error_max:\n",
        "    n_terms += 1\n",
        "    aproximacion = funcion_seno_taylor(2, n_terms)\n",
        "    error = abs((aproximacion - valor_real) / valor_real)\n",
        "#Terminamos con un siclo while, el cual ira aumentando la cantidad de polinomios de la aproximación hasta que el error sea más bajo qué lo solicitado.\n",
        "#En otras palabras, si error > error_max sumale otro término al polinomio hasta que obtengamos un error menor que el solicitado.\n",
        "print(f\"Valor aproximado de sin(2) con error relativo < 0.01: {aproximacion}\")\n",
        "print(f\"Número de términos utilizados: {n_terms}\")\n",
        "print(f\"Error relativo: {error}\")\n",
        "#Aqui solo imprimí los datos\n",
        "\n"
      ],
      "metadata": {
        "colab": {
          "base_uri": "https://localhost:8080/"
        },
        "id": "gjX0UIMi5AUI",
        "outputId": "768eae71-34a3-4441-d26f-2e7c17072a01"
      },
      "execution_count": 39,
      "outputs": [
        {
          "output_type": "stream",
          "name": "stdout",
          "text": [
            "Valor aproximado de sin(2) con error relativo < 0.01: 0.9079365079365079\n",
            "Número de términos utilizados: 4\n",
            "Error relativo: 0.0014966707801260235\n"
          ]
        }
      ]
    }
  ]
}