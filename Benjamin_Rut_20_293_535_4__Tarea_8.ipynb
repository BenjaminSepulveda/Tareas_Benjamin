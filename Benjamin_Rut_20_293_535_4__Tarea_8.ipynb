{
  "nbformat": 4,
  "nbformat_minor": 0,
  "metadata": {
    "colab": {
      "provenance": []
    },
    "kernelspec": {
      "name": "python3",
      "display_name": "Python 3"
    },
    "language_info": {
      "name": "python"
    }
  },
  "cells": [
    {
      "cell_type": "markdown",
      "source": [
        "Para resolver la ecuación dada utilizando el método compuesto del trapecio y el método de Newton, primero aproximaremos la función $f(p)$ utilizando el método del trapecio. Luego, usaremos el método de Newton para encontrar la raíz de la ecuación $f(p) = 0$ con una precisión de $10^{-5}$."
      ],
      "metadata": {
        "id": "esQg-JQDbGm9"
      }
    },
    {
      "cell_type": "code",
      "execution_count": 3,
      "metadata": {
        "colab": {
          "base_uri": "https://localhost:8080/"
        },
        "id": "Qhw1e46c1f3Z",
        "outputId": "97800f6f-f41f-474e-f3e2-10688bc7ffd4"
      },
      "outputs": [
        {
          "output_type": "stream",
          "name": "stdout",
          "text": [
            "Solución encontrada para x: 1.6485761483007744\n"
          ]
        }
      ],
      "source": [
        "import numpy as np\n",
        "\n",
        "def metodo_trapecio(p, n):\n",
        "    \"\"\"Como se mencionó al inicio, esta función nos entrega una aproximación de f(p), que se encuentra usando la Fórmula compuesta del trapecio mostrada\n",
        "    en clases, donde \"h\" es el ancho de cada subintervalo y \"n\" es el número de subintervalos utilizados para dividir el intervalo de integración.\"\"\"\n",
        "    h = p / n\n",
        "    # \"p\" es claramente el punto final de integración\n",
        "    t = np.linspace(0, p, n+1)\n",
        "    funcion_0 = 1 / np.sqrt(2*np.pi) * np.exp(-t**2/2)\n",
        "    aproximacion_integral = (h/2) * (2 * np.sum(funcion_0) -  funcion_0[0] -  funcion_0[-1])\n",
        "    #Note que f_values[-1] es la función evaluada en el último punto, el punto final \"b\" fisto en clases.\n",
        "    return aproximacion_integral - 0.45\n",
        "\n",
        "# Método de Newton para encontrar la raíz de f(p) = 0\n",
        "def metodo_newton(funcion, x0, tolerancia):\n",
        "    \"\"\"Con esta función buscamos encontrar las raíz de la ecuación, concierto margen de error, utilizando el método de Newton-Raphson \"\"\"\n",
        "    x = x0\n",
        "    while abs(funcion(x)) > tolerancia:\n",
        "        x = x - funcion(x) / derivada(funcion, x)\n",
        "    return x\n",
        "\n",
        "# Derivada numérica\n",
        "def derivada(funcion, x, h=1e-5):\n",
        "    \"\"\"Una simple derivada, una herramienta muy útil\"\"\"\n",
        "    return (funcion(x + h) - funcion(x)) / h\n",
        "\n",
        "# Parámetros iniciales\n",
        "n = 10  # Número de subintervalos\n",
        "x0 = 1.0  # Valor inicial para x en el método de Newton\n",
        "tolerancia = 1e-5\n",
        "\n",
        "# Encuentra x usando el método del trapecio y el método de Newton\n",
        "solucion_x = metodo_newton(lambda x: metodo_trapecio(x, n), x0, tolerancia)\n",
        "\n",
        "print(\"Solución encontrada para x:\", solucion_x)"
      ]
    }
  ]
}